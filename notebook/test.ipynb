{
 "cells": [],
 "metadata": {
  "kernelspec": {
   "display_name": "ab311r",
   "language": "python",
   "name": "python3"
  },
  "language_info": {
   "name": "python"
  }
 },
 "nbformat": 4,
 "nbformat_minor": 2
}
