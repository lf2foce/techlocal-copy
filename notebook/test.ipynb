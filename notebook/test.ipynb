{
 "cells": [
  {
   "cell_type": "code",
   "execution_count": 1,
   "metadata": {},
   "outputs": [
    {
     "data": {
      "text/plain": [
       "('123: A New Approach',\n",
       " \"This theme explores how '123' relates to 123. We’ll break down why this is crucial and how to apply it practically.\")"
      ]
     },
     "execution_count": 1,
     "metadata": {},
     "output_type": "execute_result"
    }
   ],
   "source": [
    "import random\n",
    "def generate_theme_title_and_story(campaign_title: str, insight: str) -> tuple[str, str]:\n",
    "    title_templates = [\n",
    "        \"The Power of {keyword}\",\n",
    "        \"Mastering {keyword} for Growth\",\n",
    "        \"Why {keyword} Matters Now\",\n",
    "        \"{keyword}: A New Approach\",\n",
    "        \"Unlocking {keyword}\"\n",
    "    ]\n",
    "\n",
    "    insight_keywords = insight.split()\n",
    "    keyword = random.choice(insight_keywords if insight_keywords else [\"change\"])\n",
    "    title = random.choice(title_templates).format(keyword=keyword.capitalize())\n",
    "\n",
    "    story = f\"This theme explores how '{keyword}' relates to {campaign_title.lower()}. We’ll break down why this is crucial and how to apply it practically.\"\n",
    "    return title, story\n",
    "generate_theme_title_and_story(\"123\", \"123\")"
   ]
  }
 ],
 "metadata": {
  "kernelspec": {
   "display_name": ".venv",
   "language": "python",
   "name": "python3"
  },
  "language_info": {
   "codemirror_mode": {
    "name": "ipython",
    "version": 3
   },
   "file_extension": ".py",
   "mimetype": "text/x-python",
   "name": "python",
   "nbconvert_exporter": "python",
   "pygments_lexer": "ipython3",
   "version": "3.13.2"
  }
 },
 "nbformat": 4,
 "nbformat_minor": 2
}
