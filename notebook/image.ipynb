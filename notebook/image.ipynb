{
 "cells": [
  {
   "cell_type": "code",
   "execution_count": null,
   "metadata": {},
   "outputs": [
    {
     "name": "stdout",
     "output_type": "stream",
     "text": [
      "Image saved as output_0.webp\n"
     ]
    }
   ],
   "source": [
    "import replicate\n",
    "import requests\n",
    "import os\n",
    "\n",
    "# Ensure the API token is set\n",
    "api_token = os.getenv(\"REPLICATE_API_TOKEN\")\n",
    "if not api_token:\n",
    "    raise ValueError(\"Please set the REPLICATE_API_TOKEN environment variable.\")\n",
    "\n",
    "# Define the prompt\n",
    "prompt = 'black forest gateau cake spelling out the words \"FLUX SCHNELL\", tasty, food photography, dynamic shot'\n",
    "\n",
    "# Run the model\n",
    "output = replicate.run(\n",
    "    \"black-forest-labs/flux-schnell\",\n",
    "    input={\"prompt\": prompt}\n",
    ")\n",
    "\n",
    "# Save the generated image(s)\n",
    "for index,  in enumerate(output):\n",
    "    response = requests.get(image_url)\n",
    "    if response.status_code == 200:\n",
    "        with open(f\"output_{index}.webp\", \"wb\") as file:\n",
    "            file.wrimage_urlite(response.content)\n",
    "        print(f\"Image saved as output_{index}.webp\")\n",
    "    else:\n",
    "        print(f\"Failed to download image from {image_url}\")"
   ]
  },
  {
   "cell_type": "code",
   "execution_count": 5,
   "metadata": {},
   "outputs": [
    {
     "name": "stdout",
     "output_type": "stream",
     "text": [
      "output_0.webp\n"
     ]
    }
   ],
   "source": [
    "for index, item in enumerate(output):\n",
    "    print(f\"output_{index}.webp\") "
   ]
  },
  {
   "cell_type": "code",
   "execution_count": 6,
   "metadata": {},
   "outputs": [
    {
     "name": "stdout",
     "output_type": "stream",
     "text": [
      "Generated image URLs: ['https://replicate.delivery/xezq/hyk0qrQrIhZhLJdGxwNRszQa99zoovHQf0WHiIwffDBJZ9PpA/out-0.webp']\n"
     ]
    }
   ],
   "source": [
    "# Define the prompt for image generation\n",
    "prompt = 'black forest gateau cake spelling out the words \"FLUX SCHNELL\", tasty, food photography, dynamic shot'\n",
    "\n",
    "# Run the FLUX.1 Schnell model\n",
    "output = replicate.run(\n",
    "    \"black-forest-labs/flux-schnell\",\n",
    "    input={\"prompt\": prompt}\n",
    ")\n",
    "\n",
    "# Extract and print the URL(s) of the generated image(s)\n",
    "image_urls = [file_output.url for file_output in output]\n",
    "print(\"Generated image URLs:\", image_urls)"
   ]
  }
 ],
 "metadata": {
  "kernelspec": {
   "display_name": ".venv",
   "language": "python",
   "name": "python3"
  },
  "language_info": {
   "codemirror_mode": {
    "name": "ipython",
    "version": 3
   },
   "file_extension": ".py",
   "mimetype": "text/x-python",
   "name": "python",
   "nbconvert_exporter": "python",
   "pygments_lexer": "ipython3",
   "version": "3.13.2"
  }
 },
 "nbformat": 4,
 "nbformat_minor": 2
}
