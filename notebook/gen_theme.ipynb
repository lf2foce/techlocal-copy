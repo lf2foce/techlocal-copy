{
 "cells": [
  {
   "cell_type": "code",
   "execution_count": 4,
   "metadata": {},
   "outputs": [],
   "source": [
    "import random\n",
    "from sqlalchemy.orm import Session\n",
    "from datetime import datetime, timedelta\n",
    "from typing import Dict, Any, List\n",
    "from pydantic import BaseModel, ValidationError\n",
    "from google import genai\n",
    "from google.genai import types\n",
    "import json\n",
    "import time\n",
    "import os\n",
    "import random\n",
    "from dotenv import load_dotenv\n",
    "from google import genai\n",
    "from google.genai import types\n",
    "from pydantic import BaseModel\n",
    "import asyncio\n",
    "\n",
    "load_dotenv()\n",
    "\n",
    "\n",
    "\n",
    "class Theme(BaseModel):\n",
    "    title: str\n",
    "    story: str\n",
    "\n",
    "class ThemeGenerate(BaseModel):\n",
    "    themes: List[Theme]\n",
    "\n",
    "def generate_theme_title_and_story(campaign_title: str, insight: str, description: str, target_customer:str) -> List[tuple[str, str]]:\n",
    "    client = genai.Client(api_key=os.getenv(\"GEMINI_API_KEY\"))\n",
    "    \n",
    "    # Generate response using Gemini API (synchronous version)\n",
    "    response = client.models.generate_content(\n",
    "        model='gemini-2.0-flash',\n",
    "        contents=f\"Tạo 5 thương hiệu cho pages với các thông tin {insight} {target_customer}. Mỗi thương hiệu phải có title và story khác nhau. Phải viết bằng tiếng việt\",\n",
    "        config=types.GenerateContentConfig(\n",
    "            response_mime_type='application/json',\n",
    "            response_schema=ThemeGenerate,\n",
    "            system_instruction=types.Part.from_text(text=description),\n",
    "        ),\n",
    "    )\n",
    "    \n",
    "    # Extract the response\n",
    "    print(\"Generated 5 themes based on user prompt.\")\n",
    "    content = json.loads(response.text)\n",
    "    \n",
    "    # Validate and parse the response using Pydantic\n",
    "    themes_data = ThemeGenerate(**content)\n",
    "    \n",
    "    # Convert list of themes to list of tuples using dot notation for Pydantic model attributes\n",
    "    return [(theme.title, theme.story) for theme in themes_data.themes]"
   ]
  },
  {
   "cell_type": "code",
   "execution_count": 5,
   "metadata": {},
   "outputs": [
    {
     "name": "stdout",
     "output_type": "stream",
     "text": [
      "Generated 5 themes based on user prompt.\n"
     ]
    },
    {
     "data": {
      "text/plain": [
       "[('Hương Vị Quê Nhà',\n",
       "  'Thương hiệu mang đậm nét truyền thống, gợi nhớ những món ăn dân dã, nguyên liệu tươi ngon từ khắp vùng miền Việt Nam. Mỗi sản phẩm là một câu chuyện về văn hóa và con người.'),\n",
       " ('Sức Khỏe Vàng',\n",
       "  'Dòng sản phẩm chăm sóc sức khỏe toàn diện, từ thực phẩm bổ dưỡng đến các liệu pháp thư giãn. Chúng tôi cam kết mang đến cho bạn một cuộc sống khỏe mạnh và tràn đầy năng lượng.'),\n",
       " ('Phong Cách Tinh Tế',\n",
       "  'Thương hiệu thời trang dành cho những người yêu thích sự thanh lịch và sang trọng. Thiết kế độc đáo, chất liệu cao cấp, thể hiện đẳng cấp và gu thẩm mỹ riêng biệt.'),\n",
       " ('Khám Phá Thế Giới',\n",
       "  'Dịch vụ du lịch trọn gói, đưa bạn đến những vùng đất mới lạ, trải nghiệm những nền văn hóa độc đáo. Chúng tôi sẽ đồng hành cùng bạn trên mọi hành trình khám phá.'),\n",
       " ('Ngôi Nhà Hạnh Phúc',\n",
       "  'Cung cấp các sản phẩm nội thất và trang trí nhà cửa, giúp bạn tạo nên một không gian sống ấm cúng, tiện nghi và đầy phong cách. Nơi bạn tìm thấy sự bình yên và hạnh phúc.')]"
      ]
     },
     "execution_count": 5,
     "metadata": {},
     "output_type": "execute_result"
    }
   ],
   "source": [
    "generate_theme_title_and_story(campaign_title=\"xin chao\", \\\n",
    "    insight=\"123\", description=\"123\", target_customer=\"123\")\n"
   ]
  }
 ],
 "metadata": {
  "kernelspec": {
   "display_name": "ab312",
   "language": "python",
   "name": "python3"
  },
  "language_info": {
   "codemirror_mode": {
    "name": "ipython",
    "version": 3
   },
   "file_extension": ".py",
   "mimetype": "text/x-python",
   "name": "python",
   "nbconvert_exporter": "python",
   "pygments_lexer": "ipython3",
   "version": "3.12.7"
  }
 },
 "nbformat": 4,
 "nbformat_minor": 2
}
