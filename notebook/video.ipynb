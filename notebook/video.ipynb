{
 "cells": [
  {
   "cell_type": "code",
   "execution_count": 1,
   "metadata": {},
   "outputs": [],
   "source": [
    "import time\n",
    "import urllib\n",
    "\n",
    "from PIL import Image as PIL_Image\n",
    "from google import genai\n",
    "from google.genai import types\n",
    "import matplotlib.pyplot as plt\n",
    "import mediapy as media"
   ]
  },
  {
   "cell_type": "code",
   "execution_count": 2,
   "metadata": {},
   "outputs": [],
   "source": [
    "import os\n",
    "\n",
    "PROJECT_ID = \"thematic-land-451915-j3\"  \n",
    "if not PROJECT_ID or PROJECT_ID == \"[your-project-id]\":\n",
    "    PROJECT_ID = str(os.environ.get(\"GOOGLE_CLOUD_PROJECT\"))\n",
    "\n",
    "LOCATION = os.environ.get(\"GOOGLE_CLOUD_REGION\", \"us-central1\")\n",
    "\n",
    "client = genai.Client(vertexai=True, project=PROJECT_ID, location=LOCATION)"
   ]
  },
  {
   "cell_type": "code",
   "execution_count": 3,
   "metadata": {},
   "outputs": [],
   "source": [
    "def show_video(gcs_uri):\n",
    "    file_name = gcs_uri.split(\"/\")[-1]\n",
    "    !gsutil cp {gcs_uri} {file_name}\n",
    "    media.show_video(media.read_video(file_name), height=500)\n",
    "\n",
    "\n",
    "def display_images(image) -> None:\n",
    "    fig, axis = plt.subplots(1, 1, figsize=(12, 6))\n",
    "    axis.imshow(image)\n",
    "    axis.set_title(\"Starting Image\")\n",
    "    axis.axis(\"off\")\n",
    "    plt.show()"
   ]
  },
  {
   "cell_type": "code",
   "execution_count": 4,
   "metadata": {},
   "outputs": [],
   "source": [
    "video_model = \"veo-2.0-generate-001\""
   ]
  },
  {
   "cell_type": "code",
   "execution_count": 5,
   "metadata": {},
   "outputs": [
    {
     "name": "stderr",
     "output_type": "stream",
     "text": [
      "/var/folders/x5/hz3hvkxn58sdsfnlnm0km3r00000gn/T/ipykernel_20435/484537295.py:5: ExperimentalWarning: This method is experimental and may change in future versions.\n",
      "  operation = client.models.generate_videos(\n",
      "/var/folders/x5/hz3hvkxn58sdsfnlnm0km3r00000gn/T/ipykernel_20435/484537295.py:20: ExperimentalWarning: This method is experimental and may change in future versions.\n",
      "  operation = client.operations.get(operation)\n"
     ]
    },
    {
     "name": "stdout",
     "output_type": "stream",
     "text": [
      "name='projects/thematic-land-451915-j3/locations/us-central1/publishers/google/models/veo-2.0-generate-001/operations/8f21df33-69a0-48c2-aa24-ffb1f14432dd' metadata=None done=None error=None response=None result=None\n",
      "name='projects/thematic-land-451915-j3/locations/us-central1/publishers/google/models/veo-2.0-generate-001/operations/8f21df33-69a0-48c2-aa24-ffb1f14432dd' metadata=None done=True error={'code': 5, 'message': 'Bucket \"11755668437916986467\" not found for operation OP_INITIATE_RESUMABLE_WRITE'} response=None result=None\n"
     ]
    }
   ],
   "source": [
    "prompt = \"a cat reading a book\"  # @param {type: 'string'}\n",
    "aspect_ratio = \"16:9\"  # @param [\"16:9\", \"9:16\"]\n",
    "output_gcs = \"gs://\"  # @param {type: 'string'}\n",
    "\n",
    "operation = client.models.generate_videos(\n",
    "    model=video_model,\n",
    "    prompt=prompt,\n",
    "    config=types.GenerateVideosConfig(\n",
    "        aspect_ratio=aspect_ratio,\n",
    "        output_gcs_uri=output_gcs,\n",
    "        number_of_videos=1,\n",
    "        duration_seconds=5,\n",
    "        person_generation=\"dont_allow\",\n",
    "        enhance_prompt=True,\n",
    "    ),\n",
    ")\n",
    "\n",
    "while not operation.done:\n",
    "    time.sleep(15)\n",
    "    operation = client.operations.get(operation)\n",
    "    print(operation)\n",
    "\n",
    "if operation.response:\n",
    "    show_video(operation.result.generated_videos[0].video.uri)"
   ]
  },
  {
   "cell_type": "code",
   "execution_count": 11,
   "metadata": {},
   "outputs": [
    {
     "name": "stderr",
     "output_type": "stream",
     "text": [
      "python(14119) MallocStackLogging: can't turn off malloc stack logging because it was not enabled.\n"
     ]
    },
    {
     "name": "stdout",
     "output_type": "stream",
     "text": [
      "Waiting for operation to complete...\n",
      "Waiting for operation to complete...\n",
      "Waiting for operation to complete...\n",
      "Generated video URI: gs://bucket_nextcopy/video/3609597647696811937/sample_0.mp4\n",
      "Public URL: https://storage.googleapis.com/bucket_nextcopy/video/3609597647696811937/sample_0.mp4\n"
     ]
    },
    {
     "name": "stderr",
     "output_type": "stream",
     "text": [
      "python(15112) MallocStackLogging: can't turn off malloc stack logging because it was not enabled.\n"
     ]
    }
   ],
   "source": [
    "import time\n",
    "from google.cloud import storage\n",
    "import os\n",
    "\n",
    "PROJECT_ID = \"thematic-land-451915-j3\"\n",
    "LOCATION = os.environ.get(\"GOOGLE_CLOUD_REGION\", \"us-central1\")\n",
    "\n",
    "client = genai.Client(vertexai=True, project=PROJECT_ID, location=LOCATION)\n",
    "\n",
    "# Define your prompt and configurations\n",
    "prompt = \"a cat reading a book\"\n",
    "aspect_ratio = \"9:16\"\n",
    "output_gcs = \"gs://bucket_nextcopy/video/\"\n",
    "\n",
    "# Initiate video generation\n",
    "operation = client.models.generate_videos(\n",
    "    model=video_model,\n",
    "    prompt=prompt,\n",
    "    config=types.GenerateVideosConfig(\n",
    "        aspect_ratio=aspect_ratio,\n",
    "        output_gcs_uri=output_gcs,\n",
    "        number_of_videos=1,\n",
    "        duration_seconds=5,\n",
    "        person_generation=\"dont_allow\",\n",
    "        enhance_prompt=True,\n",
    "    ),\n",
    ")\n",
    "\n",
    "# Wait for the operation to complete\n",
    "while not operation.done:\n",
    "    time.sleep(15)\n",
    "    operation = client.operations.get(operation)\n",
    "    print(\"Waiting for operation to complete...\")\n",
    "\n",
    "# After the operation is complete\n",
    "if operation.response:\n",
    "    video_uri = operation.result.generated_videos[0].video.uri\n",
    "    print(f\"Generated video URI: {video_uri}\")\n",
    "\n",
    "    # Extract bucket name and blob name from the URI\n",
    "    if video_uri.startswith(\"gs://\"):\n",
    "        path_parts = video_uri[5:].split(\"/\", 1)\n",
    "        bucket_name = path_parts[0]\n",
    "        blob_name = path_parts[1] if len(path_parts) > 1 else \"\"\n",
    "        \n",
    "        if blob_name:\n",
    "            # Get public URL directly (like your image code)\n",
    "            storage_client = storage.Client(project=PROJECT_ID)\n",
    "            bucket = storage_client.bucket(bucket_name)\n",
    "            blob = bucket.blob(blob_name)\n",
    "            \n",
    "            public_url = blob.public_url\n",
    "            print(f\"Public URL: {public_url}\")\n",
    "        else:\n",
    "            print(\"Invalid blob path in GCS URI\")\n",
    "    else:\n",
    "        print(\"Invalid GCS URI format.\")\n",
    "else:\n",
    "    print(\"Video generation failed!\")"
   ]
  }
 ],
 "metadata": {
  "kernelspec": {
   "display_name": ".venv",
   "language": "python",
   "name": "python3"
  },
  "language_info": {
   "codemirror_mode": {
    "name": "ipython",
    "version": 3
   },
   "file_extension": ".py",
   "mimetype": "text/x-python",
   "name": "python",
   "nbconvert_exporter": "python",
   "pygments_lexer": "ipython3",
   "version": "3.13.2"
  }
 },
 "nbformat": 4,
 "nbformat_minor": 2
}
