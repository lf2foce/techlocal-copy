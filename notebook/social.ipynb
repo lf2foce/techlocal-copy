{
 "cells": [
  {
   "cell_type": "code",
   "execution_count": 9,
   "metadata": {},
   "outputs": [
    {
     "name": "stdout",
     "output_type": "stream",
     "text": [
      "✅ Post published successfully!\n",
      "Post ID: 1055389106606164\n"
     ]
    }
   ],
   "source": [
    "import requests\n",
    "import os\n",
    "from dotenv import load_dotenv\n",
    "load_dotenv()\n",
    "# 1️⃣ Replace with your actual values\n",
    "\n",
    "PAGE_ID = os.getenv('FACEBOOK_PAGE_ID')\n",
    "PAGE_ACCESS_TOKEN = os.getenv('FACEBOOK_PAGE_ACCESS_TOKEN')\n",
    "\n",
    "MESSAGE = '🚀 Hello from Python! This is an auto-post using Facebook Graph API.'\n",
    "\n",
    "\n",
    "IMAGE_URL = 'https://images.unsplash.com/photo-1473496169904-658ba7c44d8a?q=80&w=600&auto=format&fit=crop'\n",
    "CAPTION = '🌅 Check out this beautiful photo! #AutoPosted'\n",
    "\n",
    "# 2️⃣ Facebook API endpoint for photo uploads\n",
    "url = f'https://graph.facebook.com/v18.0/{PAGE_ID}/photos'\n",
    "\n",
    "# 3️⃣ Payload\n",
    "payload = {\n",
    "    'url': IMAGE_URL,          # Or use 'source' to upload local file (see below)\n",
    "    'caption': CAPTION,\n",
    "    'access_token': PAGE_ACCESS_TOKEN\n",
    "}\n",
    "# files = {\n",
    "#     'source': open('/path/to/your/image.jpg', 'rb')\n",
    "# }\n",
    "# payload = {\n",
    "#     'caption': CAPTION,\n",
    "#     'access_token': PAGE_ACCESS_TOKEN\n",
    "# }\n",
    "\n",
    "# 4️⃣ Make the POST request\n",
    "response = requests.post(url, data=payload)\n",
    "# response = requests.post(url, data=payload, files=files)\n",
    "\n",
    "# # 2️⃣ API endpoint to post\n",
    "# url = f'https://graph.facebook.com/{PAGE_ID}/feed'\n",
    "\n",
    "# # 3️⃣ Payload\n",
    "# payload = {\n",
    "#     'message': MESSAGE,\n",
    "#     'access_token': ACCESS_TOKEN\n",
    "# }\n",
    "\n",
    "# # 4️⃣ Send the POST request\n",
    "# response = requests.post(url, data=payload)\n",
    "\n",
    "# 5️⃣ Check response\n",
    "if response.status_code == 200:\n",
    "    print('✅ Post published successfully!')\n",
    "    print('Post ID:', response.json().get('id'))\n",
    "else:\n",
    "    print('❌ Failed to post:')\n",
    "    print(response.status_code, response.text)"
   ]
  },
  {
   "cell_type": "code",
   "execution_count": null,
   "metadata": {},
   "outputs": [],
   "source": []
  }
 ],
 "metadata": {
  "kernelspec": {
   "display_name": ".venv",
   "language": "python",
   "name": "python3"
  },
  "language_info": {
   "codemirror_mode": {
    "name": "ipython",
    "version": 3
   },
   "file_extension": ".py",
   "mimetype": "text/x-python",
   "name": "python",
   "nbconvert_exporter": "python",
   "pygments_lexer": "ipython3",
   "version": "3.13.2"
  }
 },
 "nbformat": 4,
 "nbformat_minor": 2
}
