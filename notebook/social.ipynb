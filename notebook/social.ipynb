{
 "cells": [
  {
   "cell_type": "code",
   "execution_count": null,
   "metadata": {},
   "outputs": [
    {
     "name": "stdout",
     "output_type": "stream",
     "text": [
      "❌ Failed to post:\n",
      "403 {\"error\":{\"message\":\"(#200) If posting to a group, requires app being installed in the group, and \\\\\\n          either publish_to_groups permission with user token, or both pages_read_engagement \\\\\\n          and pages_manage_posts permission with page token; If posting to a page, \\\\\\n          requires both pages_read_engagement and pages_manage_posts as an admin with \\\\\\n          sufficient administrative permission\",\"type\":\"OAuthException\",\"code\":200,\"fbtrace_id\":\"AZlSTubIncZfQ0i-fm5pLEq\"}}\n"
     ]
    }
   ],
   "source": [
    "import requests\n",
    "import os\n",
    "from dotenv import load_dotenv\n",
    "\n",
    "load_dotenv()\n",
    "# 1️⃣ Replace with your actual values\n",
    "\n",
    "PAGE_ID = os.getenv('FACEBOOK_PAGE_ID')\n",
    "PAGE_ACCESS_TOKEN = os.getenv('FACEBOOK_PAGE_ACCESS_TOKEN')\n",
    "\n",
    "\n",
    "MESSAGE = '🚀'\n",
    "\n",
    "\n",
    "IMAGE_URL = 'https://images.unsplash.com/photo-1473496169904-658ba7c44d8a?q=80&w=600&auto=format&fit=crop'\n",
    "CAPTION = '🌅 Check out this beautiful photo! #AutoPosted'\n",
    "\n",
    "# 2️⃣ Facebook API endpoint for photo uploads\n",
    "# url = f'https://graph.facebook.com/v18.0/{PAGE_ID}/photos'\n",
    "\n",
    "# # 3️⃣ Payload\n",
    "# payload = {\n",
    "#     'url': IMAGE_URL,          # Or use 'source' to upload local file (see below)\n",
    "#     'caption': CAPTION,\n",
    "#     'access_token': PAGE_ACCESS_TOKEN\n",
    "# }\n",
    "\n",
    "\n",
    "# files = {\n",
    "#     'source': open('/path/to/your/image.jpg', 'rb')\n",
    "# }\n",
    "# payload = {\n",
    "#     'caption': CAPTION,\n",
    "#     'access_token': PAGE_ACCESS_TOKEN\n",
    "# }\n",
    "\n",
    "# 4️⃣ Make the POST request\n",
    "# response = requests.post(url, data=payload)\n",
    "# response = requests.post(url, data=payload, files=files)\n",
    "\n",
    "# 2️⃣ API endpoint to post\n",
    "url = f'https://graph.facebook.com/{PAGE_ID}/feed'\n",
    "\n",
    "# 3️⃣ Payload\n",
    "payload = {\n",
    "    'message': MESSAGE,\n",
    "    'access_token': PAGE_ACCESS_TOKEN\n",
    "}\n",
    "\n",
    "# # 4️⃣ Send the POST request\n",
    "response = requests.post(url, data=payload)\n",
    "\n",
    "# 5️⃣ Check response\n",
    "if response.status_code == 200:\n",
    "    print('✅ Post published successfully!')\n",
    "    print('Post ID:', response.json().get('id'))\n",
    "else:\n",
    "    print('❌ Failed to post:')\n",
    "    print(response.status_code, response.text)"
   ]
  },
  {
   "cell_type": "code",
   "execution_count": null,
   "metadata": {},
   "outputs": [],
   "source": [
    "import requests\n",
    "import os\n",
    "from dotenv import load_dotenv\n",
    "from pathlib import Path\n",
    "# 1️⃣ Replace with your actual values\n",
    "\n",
    "\n",
    "env_path = Path('.') / '.env'  # Change path if needed\n",
    "load_dotenv(dotenv_path=env_path)\n",
    "\n",
    "PAGE_ID = os.getenv('FACEBOOK_PAGE_ID')\n",
    "PAGE_ACCESS_TOKEN = os.getenv('FACEBOOK_PAGE_ACCESS_TOKEN')\n",
    "PAGE_ACCESS_TOKEN"
   ]
  }
 ],
 "metadata": {
  "kernelspec": {
   "display_name": ".venv",
   "language": "python",
   "name": "python3"
  },
  "language_info": {
   "codemirror_mode": {
    "name": "ipython",
    "version": 3
   },
   "file_extension": ".py",
   "mimetype": "text/x-python",
   "name": "python",
   "nbconvert_exporter": "python",
   "pygments_lexer": "ipython3",
   "version": "3.13.2"
  }
 },
 "nbformat": 4,
 "nbformat_minor": 2
}
